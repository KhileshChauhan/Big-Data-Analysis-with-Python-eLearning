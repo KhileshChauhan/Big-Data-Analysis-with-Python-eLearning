{
 "cells": [
  {
   "cell_type": "code",
   "execution_count": 1,
   "metadata": {
    "colab": {},
    "colab_type": "code",
    "id": "1Jm252gylWT8"
   },
   "outputs": [],
   "source": [
    "import pandas as pd\n",
    "import numpy as np\n"
   ]
  },
  {
   "cell_type": "code",
   "execution_count": 2,
   "metadata": {
    "colab": {},
    "colab_type": "code",
    "id": "6Z_gSGtElWT_"
   },
   "outputs": [],
   "source": [
    "url = \"https://raw.githubusercontent.com/TrainingByPackt/Big-Data-Analysis-with-Python/master/Lesson01/RadNet_Laboratory_Analysis.csv\"\n",
    "df = pd.read_csv(url)\n"
   ]
  },
  {
   "cell_type": "code",
   "execution_count": 3,
   "metadata": {
    "colab": {
     "base_uri": "https://localhost:8080/",
     "height": 221
    },
    "colab_type": "code",
    "id": "-EkjVY6zlWUB",
    "outputId": "095d4084-6468-41ee-c2b6-8f9963e84912"
   },
   "outputs": [
    {
     "data": {
      "text/plain": [
       "['Te-129m',\n",
       " 'I-133',\n",
       " 'Te-132',\n",
       " 'Cs-134',\n",
       " 'I-132',\n",
       " 'Cs-137',\n",
       " 'Co-60',\n",
       " 'Te-129',\n",
       " 'Ba-140',\n",
       " 'Ba-140.1',\n",
       " 'I-131',\n",
       " 'Cs-136']"
      ]
     },
     "execution_count": 3,
     "metadata": {},
     "output_type": "execute_result"
    }
   ],
   "source": [
    "columns = df.columns\n",
    "id_cols = ['State', 'Location', \"Date Posted\", 'Date Collected', 'Sample Type', 'Unit']\n",
    "columns = list(set(columns) - set(id_cols))\n",
    "columns\n"
   ]
  },
  {
   "cell_type": "code",
   "execution_count": 4,
   "metadata": {
    "colab": {
     "base_uri": "https://localhost:8080/",
     "height": 204
    },
    "colab_type": "code",
    "id": "31lvRfLslWUF",
    "outputId": "9da0381f-edf2-4a3a-a4b4-95179cb81f42"
   },
   "outputs": [
    {
     "data": {
      "text/html": [
       "<div>\n",
       "<style scoped>\n",
       "    .dataframe tbody tr th:only-of-type {\n",
       "        vertical-align: middle;\n",
       "    }\n",
       "\n",
       "    .dataframe tbody tr th {\n",
       "        vertical-align: top;\n",
       "    }\n",
       "\n",
       "    .dataframe thead th {\n",
       "        text-align: right;\n",
       "    }\n",
       "</style>\n",
       "<table border=\"1\" class=\"dataframe\">\n",
       "  <thead>\n",
       "    <tr style=\"text-align: right;\">\n",
       "      <th></th>\n",
       "      <th>State</th>\n",
       "      <th>Location</th>\n",
       "      <th>Date Posted</th>\n",
       "      <th>Date Collected</th>\n",
       "      <th>Sample Type</th>\n",
       "      <th>Unit</th>\n",
       "      <th>Ba-140</th>\n",
       "      <th>Co-60</th>\n",
       "      <th>Cs-134</th>\n",
       "      <th>Cs-136</th>\n",
       "      <th>Cs-137</th>\n",
       "      <th>I-131</th>\n",
       "      <th>I-132</th>\n",
       "      <th>I-133</th>\n",
       "      <th>Te-129</th>\n",
       "      <th>Te-129m</th>\n",
       "      <th>Te-132</th>\n",
       "      <th>Ba-140.1</th>\n",
       "    </tr>\n",
       "  </thead>\n",
       "  <tbody>\n",
       "    <tr>\n",
       "      <th>0</th>\n",
       "      <td>ID</td>\n",
       "      <td>Boise</td>\n",
       "      <td>03/30/2011</td>\n",
       "      <td>03/23/2011</td>\n",
       "      <td>Air Filter</td>\n",
       "      <td>pCi/m3</td>\n",
       "      <td>0.0</td>\n",
       "      <td>0.0</td>\n",
       "      <td>0</td>\n",
       "      <td>NaN</td>\n",
       "      <td>0</td>\n",
       "      <td>0</td>\n",
       "      <td>0</td>\n",
       "      <td>0.0</td>\n",
       "      <td>NaN</td>\n",
       "      <td>NaN</td>\n",
       "      <td>0</td>\n",
       "      <td>NaN</td>\n",
       "    </tr>\n",
       "    <tr>\n",
       "      <th>1</th>\n",
       "      <td>ID</td>\n",
       "      <td>Boise</td>\n",
       "      <td>03/30/2011</td>\n",
       "      <td>03/23/2011</td>\n",
       "      <td>Air Filter</td>\n",
       "      <td>pCi/m3</td>\n",
       "      <td>0.0</td>\n",
       "      <td>0.0</td>\n",
       "      <td>0</td>\n",
       "      <td>NaN</td>\n",
       "      <td>0</td>\n",
       "      <td>0</td>\n",
       "      <td>0</td>\n",
       "      <td>0.0</td>\n",
       "      <td>NaN</td>\n",
       "      <td>NaN</td>\n",
       "      <td>0</td>\n",
       "      <td>NaN</td>\n",
       "    </tr>\n",
       "    <tr>\n",
       "      <th>2</th>\n",
       "      <td>AK</td>\n",
       "      <td>Juneau</td>\n",
       "      <td>03/30/2011</td>\n",
       "      <td>03/23/2011</td>\n",
       "      <td>Air Filter</td>\n",
       "      <td>pCi/m3</td>\n",
       "      <td>0.0</td>\n",
       "      <td>0.0</td>\n",
       "      <td>0</td>\n",
       "      <td>NaN</td>\n",
       "      <td>0</td>\n",
       "      <td>0</td>\n",
       "      <td>0</td>\n",
       "      <td>0.0</td>\n",
       "      <td>NaN</td>\n",
       "      <td>NaN</td>\n",
       "      <td>0</td>\n",
       "      <td>NaN</td>\n",
       "    </tr>\n",
       "    <tr>\n",
       "      <th>3</th>\n",
       "      <td>AK</td>\n",
       "      <td>Nome</td>\n",
       "      <td>03/30/2011</td>\n",
       "      <td>03/22/2011</td>\n",
       "      <td>Air Filter</td>\n",
       "      <td>pCi/m3</td>\n",
       "      <td>0.0</td>\n",
       "      <td>0.0</td>\n",
       "      <td>0</td>\n",
       "      <td>NaN</td>\n",
       "      <td>0</td>\n",
       "      <td>0</td>\n",
       "      <td>0</td>\n",
       "      <td>0.0</td>\n",
       "      <td>NaN</td>\n",
       "      <td>NaN</td>\n",
       "      <td>0</td>\n",
       "      <td>NaN</td>\n",
       "    </tr>\n",
       "    <tr>\n",
       "      <th>4</th>\n",
       "      <td>AK</td>\n",
       "      <td>Nome</td>\n",
       "      <td>03/30/2011</td>\n",
       "      <td>03/23/2011</td>\n",
       "      <td>Air Filter</td>\n",
       "      <td>pCi/m3</td>\n",
       "      <td>0.0</td>\n",
       "      <td>0.0</td>\n",
       "      <td>0</td>\n",
       "      <td>NaN</td>\n",
       "      <td>0</td>\n",
       "      <td>0</td>\n",
       "      <td>0</td>\n",
       "      <td>0.0</td>\n",
       "      <td>NaN</td>\n",
       "      <td>NaN</td>\n",
       "      <td>0</td>\n",
       "      <td>NaN</td>\n",
       "    </tr>\n",
       "  </tbody>\n",
       "</table>\n",
       "</div>"
      ],
      "text/plain": [
       "  State Location Date Posted Date Collected Sample Type    Unit  Ba-140  \\\n",
       "0    ID    Boise  03/30/2011     03/23/2011  Air Filter  pCi/m3     0.0   \n",
       "1    ID    Boise  03/30/2011     03/23/2011  Air Filter  pCi/m3     0.0   \n",
       "2    AK   Juneau  03/30/2011     03/23/2011  Air Filter  pCi/m3     0.0   \n",
       "3    AK     Nome  03/30/2011     03/22/2011  Air Filter  pCi/m3     0.0   \n",
       "4    AK     Nome  03/30/2011     03/23/2011  Air Filter  pCi/m3     0.0   \n",
       "\n",
       "   Co-60  Cs-134  Cs-136  Cs-137  I-131  I-132  I-133  Te-129  Te-129m  \\\n",
       "0    0.0       0     NaN       0      0      0    0.0     NaN      NaN   \n",
       "1    0.0       0     NaN       0      0      0    0.0     NaN      NaN   \n",
       "2    0.0       0     NaN       0      0      0    0.0     NaN      NaN   \n",
       "3    0.0       0     NaN       0      0      0    0.0     NaN      NaN   \n",
       "4    0.0       0     NaN       0      0      0    0.0     NaN      NaN   \n",
       "\n",
       "   Te-132  Ba-140.1  \n",
       "0       0       NaN  \n",
       "1       0       NaN  \n",
       "2       0       NaN  \n",
       "3       0       NaN  \n",
       "4       0       NaN  "
      ]
     },
     "execution_count": 4,
     "metadata": {},
     "output_type": "execute_result"
    }
   ],
   "source": [
    "df['Cs-134'] = df['Cs-134'].apply(lambda x: np.nan if x == \"Non-detect\" else x)\n",
    "df.head()\n"
   ]
  },
  {
   "cell_type": "code",
   "execution_count": 5,
   "metadata": {
    "colab": {},
    "colab_type": "code",
    "id": "zA9mngwulWUK"
   },
   "outputs": [],
   "source": [
    "df.loc[:, columns] = df.loc[:, columns].applymap(lambda x: np.nan if x == 'Non-detect' else x)\n",
    "df.loc[:, columns] = df.loc[:, columns].applymap(lambda x: np.nan if x == 'ND' else x)\n"
   ]
  },
  {
   "cell_type": "code",
   "execution_count": 6,
   "metadata": {
    "colab": {},
    "colab_type": "code",
    "id": "l4LScBBIlWUM"
   },
   "outputs": [],
   "source": [
    "df.loc[:, ['State', 'Location', 'Sample Type', 'Unit']] = df.loc[:, ['State', 'Location', 'Sample Type', 'Unit']].applymap(lambda x: x.strip())"
   ]
  },
  {
   "cell_type": "code",
   "execution_count": 7,
   "metadata": {
    "colab": {
     "base_uri": "https://localhost:8080/",
     "height": 340
    },
    "colab_type": "code",
    "id": "H9voUJD_lWUO",
    "outputId": "f5c55d60-c317-4c45-fda5-017bc86d2f4c"
   },
   "outputs": [
    {
     "data": {
      "text/plain": [
       "State              object\n",
       "Location           object\n",
       "Date Posted        object\n",
       "Date Collected     object\n",
       "Sample Type        object\n",
       "Unit               object\n",
       "Ba-140            float64\n",
       "Co-60             float64\n",
       "Cs-134              int64\n",
       "Cs-136            float64\n",
       "Cs-137              int64\n",
       "I-131               int64\n",
       "I-132               int64\n",
       "I-133             float64\n",
       "Te-129            float64\n",
       "Te-129m           float64\n",
       "Te-132              int64\n",
       "Ba-140.1          float64\n",
       "dtype: object"
      ]
     },
     "execution_count": 7,
     "metadata": {},
     "output_type": "execute_result"
    }
   ],
   "source": [
    "df.dtypes"
   ]
  },
  {
   "cell_type": "code",
   "execution_count": 8,
   "metadata": {
    "colab": {
     "base_uri": "https://localhost:8080/",
     "height": 340
    },
    "colab_type": "code",
    "id": "5kTABCqulWUR",
    "outputId": "c500ab13-eff0-4905-858e-2c73b5279e73"
   },
   "outputs": [
    {
     "data": {
      "text/plain": [
       "State                     object\n",
       "Location                  object\n",
       "Date Posted       datetime64[ns]\n",
       "Date Collected    datetime64[ns]\n",
       "Sample Type               object\n",
       "Unit                      object\n",
       "Ba-140                   float64\n",
       "Co-60                    float64\n",
       "Cs-134                     int64\n",
       "Cs-136                   float64\n",
       "Cs-137                     int64\n",
       "I-131                      int64\n",
       "I-132                      int64\n",
       "I-133                    float64\n",
       "Te-129                   float64\n",
       "Te-129m                  float64\n",
       "Te-132                     int64\n",
       "Ba-140.1                 float64\n",
       "dtype: object"
      ]
     },
     "execution_count": 8,
     "metadata": {},
     "output_type": "execute_result"
    }
   ],
   "source": [
    "df['Date Posted'] = pd.to_datetime(df['Date Posted'])\n",
    "df['Date Collected'] = pd.to_datetime(df['Date Collected'])\n",
    "for col in columns:\n",
    "    df[col] = pd.to_numeric(df[col])\n",
    "df.dtypes\n"
   ]
  },
  {
   "cell_type": "code",
   "execution_count": 9,
   "metadata": {
    "colab": {
     "base_uri": "https://localhost:8080/",
     "height": 340
    },
    "colab_type": "code",
    "id": "ORZDSc00lWUT",
    "outputId": "ff6d4f52-1804-4b12-f175-300abfb4133a"
   },
   "outputs": [
    {
     "data": {
      "text/plain": [
       "State                     object\n",
       "Location                  object\n",
       "Date Posted       datetime64[ns]\n",
       "Date Collected    datetime64[ns]\n",
       "Sample Type               object\n",
       "Unit                      object\n",
       "Ba-140                   float64\n",
       "Co-60                    float64\n",
       "Cs-134                     int64\n",
       "Cs-136                   float64\n",
       "Cs-137                     int64\n",
       "I-131                      int64\n",
       "I-132                      int64\n",
       "I-133                    float64\n",
       "Te-129                   float64\n",
       "Te-129m                  float64\n",
       "Te-132                     int64\n",
       "Ba-140.1                 float64\n",
       "dtype: object"
      ]
     },
     "execution_count": 9,
     "metadata": {},
     "output_type": "execute_result"
    }
   ],
   "source": [
    "df['Date Posted'] = pd.to_datetime(df['Date Posted'])\n",
    "df['Date Collected'] = pd.to_datetime(df['Date Collected'])\n",
    "for col in columns:\n",
    "    df[col] = pd.to_numeric(df[col])\n",
    "df.dtypes\n"
   ]
  },
  {
   "cell_type": "code",
   "execution_count": null,
   "metadata": {
    "colab": {},
    "colab_type": "code",
    "id": "__NharA0lWUX"
   },
   "outputs": [],
   "source": []
  },
  {
   "cell_type": "code",
   "execution_count": null,
   "metadata": {},
   "outputs": [],
   "source": []
  }
 ],
 "metadata": {
  "colab": {
   "name": "Activity 2.ipynb",
   "provenance": [],
   "version": "0.3.2"
  },
  "kernelspec": {
   "display_name": "Python 3",
   "language": "python",
   "name": "python3"
  },
  "language_info": {
   "codemirror_mode": {
    "name": "ipython",
    "version": 3
   },
   "file_extension": ".py",
   "mimetype": "text/x-python",
   "name": "python",
   "nbconvert_exporter": "python",
   "pygments_lexer": "ipython3",
   "version": "3.6.7"
  }
 },
 "nbformat": 4,
 "nbformat_minor": 1
}
