{
 "cells": [
  {
   "cell_type": "code",
   "execution_count": 1,
   "metadata": {
    "colab": {},
    "colab_type": "code",
    "id": "1_RoO-_ymnIp"
   },
   "outputs": [],
   "source": [
    "import numpy as np\n",
    "import pandas as pd\n",
    "\n",
    "url = \"https://raw.githubusercontent.com/TrainingByPackt/Big-Data-Analysis-with-Python/master/Lesson01/RadNet_Laboratory_Analysis.csv\"\n",
    "df = pd.read_csv(url)\n"
   ]
  },
  {
   "cell_type": "code",
   "execution_count": 2,
   "metadata": {
    "colab": {
     "base_uri": "https://localhost:8080/",
     "height": 221
    },
    "colab_type": "code",
    "id": "ejUXvM_5mnIt",
    "outputId": "18e32117-4ead-4acf-de3e-9d658bf6ff68"
   },
   "outputs": [
    {
     "data": {
      "text/plain": [
       "['Cs-134',\n",
       " 'Ba-140',\n",
       " 'Te-129',\n",
       " 'Co-60',\n",
       " 'I-133',\n",
       " 'I-131',\n",
       " 'Te-132',\n",
       " 'Cs-136',\n",
       " 'Cs-137',\n",
       " 'I-132',\n",
       " 'Te-129m',\n",
       " 'Ba-140.1']"
      ]
     },
     "execution_count": 2,
     "metadata": {},
     "output_type": "execute_result"
    }
   ],
   "source": [
    "columns = df.columns\n",
    "id_cols = ['State', 'Location', \"Date Posted\", 'Date Collected', 'Sample Type', 'Unit']\n",
    "columns = list(set(columns) - set(id_cols))\n",
    "columns\n"
   ]
  },
  {
   "cell_type": "code",
   "execution_count": 3,
   "metadata": {
    "colab": {},
    "colab_type": "code",
    "id": "5_tZ7HnXmnIx"
   },
   "outputs": [],
   "source": [
    "df['Cs-134'] = df['Cs-134'].apply(lambda x: np.nan if x == \"Non-detect\" else x)\n",
    "df.loc[:, columns] = df.loc[:, columns].applymap(lambda x: np.nan if x == 'Non-detect' else x)\n",
    "df.loc[:, columns] = df.loc[:, columns].applymap(lambda x: np.nan if x == 'ND' else x)\n"
   ]
  },
  {
   "cell_type": "code",
   "execution_count": 4,
   "metadata": {
    "colab": {},
    "colab_type": "code",
    "id": "IIf4vXKZmnI0"
   },
   "outputs": [],
   "source": [
    "df.loc[:, ['State', 'Location', 'Sample Type', 'Unit']] = df.loc[:, ['State', 'Location', 'Sample Type', 'Unit']].applymap(lambda x: x.strip())"
   ]
  },
  {
   "cell_type": "code",
   "execution_count": 5,
   "metadata": {
    "colab": {},
    "colab_type": "code",
    "id": "vRegsMYxmnI3"
   },
   "outputs": [],
   "source": [
    "df['Date Posted'] = pd.to_datetime(df['Date Posted'])\n",
    "df['Date Collected'] = pd.to_datetime(df['Date Collected'])\n"
   ]
  },
  {
   "cell_type": "code",
   "execution_count": 6,
   "metadata": {
    "colab": {},
    "colab_type": "code",
    "id": "Pxvk0W8HmnI5"
   },
   "outputs": [],
   "source": [
    "for col in columns:\n",
    "    df[col] = pd.to_numeric(df[col])\n"
   ]
  },
  {
   "cell_type": "code",
   "execution_count": 7,
   "metadata": {
    "colab": {},
    "colab_type": "code",
    "id": "eV110Q4rmnI7"
   },
   "outputs": [],
   "source": [
    "df['State'] = df['State'].astype('category')\n",
    "df['Location'] = df['Location'].astype('category')\n",
    "df['Unit'] = df['Unit'].astype('category')\n",
    "df['Sample Type'] = df['Sample Type'].astype('category')\n"
   ]
  },
  {
   "cell_type": "code",
   "execution_count": 8,
   "metadata": {
    "colab": {
     "base_uri": "https://localhost:8080/",
     "height": 299
    },
    "colab_type": "code",
    "id": "R5x9d4g1mnI-",
    "outputId": "215dc9bf-3c05-4e3b-99ac-578ef0bdf69a"
   },
   "outputs": [
    {
     "data": {
      "text/plain": [
       "<matplotlib.axes._subplots.AxesSubplot at 0x7f6b345f3c18>"
      ]
     },
     "execution_count": 8,
     "metadata": {},
     "output_type": "execute_result"
    }
   ],
   "source": [
    "df.loc[df.Location == 'San Bernardino'].plot(x='Date Collected', y='I-131')\n"
   ]
  },
  {
   "cell_type": "code",
   "execution_count": 9,
   "metadata": {
    "colab": {
     "base_uri": "https://localhost:8080/",
     "height": 295
    },
    "colab_type": "code",
    "id": "lR1wbxjamnJC",
    "outputId": "1f760d52-dc58-4473-c31e-3580aeb42204"
   },
   "outputs": [
    {
     "data": {
      "image/png": "[encoded data removed]",
      "text/plain": [
       "<Figure size 432x288 with 1 Axes>"
      ]
     },
     "metadata": {
      "needs_background": "light"
     },
     "output_type": "display_data"
    }
   ],
   "source": [
    "import matplotlib.pyplot as plt\n",
    "fig, ax = plt.subplots()\n",
    "ax.scatter(x=df['I-131'], y=df['I-132'])\n",
    "_ = ax.set(\n",
    "    xlabel='I-131',\n",
    "    ylabel='I-132',\n",
    "    title='Comparison between concentrations of I-131 and I-132'\n",
    ")\n"
   ]
  },
  {
   "cell_type": "code",
   "execution_count": null,
   "metadata": {
    "colab": {},
    "colab_type": "code",
    "id": "DnxGx9IbmnJG"
   },
   "outputs": [],
   "source": []
  }
 ],
 "metadata": {
  "colab": {
   "name": "Activity03.ipynb",
   "provenance": [],
   "version": "0.3.2"
  },
  "kernelspec": {
   "display_name": "Python 3",
   "language": "python",
   "name": "python3"
  },
  "language_info": {
   "codemirror_mode": {
    "name": "ipython",
    "version": 3
   },
   "file_extension": ".py",
   "mimetype": "text/x-python",
   "name": "python",
   "nbconvert_exporter": "python",
   "pygments_lexer": "ipython3",
   "version": "3.6.7"
  }
 },
 "nbformat": 4,
 "nbformat_minor": 1
}
