{
 "cells": [
  {
   "cell_type": "markdown",
   "metadata": {
    "colab_type": "text",
    "id": "asGzh2piRMRZ"
   },
   "source": [
    "## Exercise 5: Exploring Data Types"
   ]
  },
  {
   "cell_type": "code",
   "execution_count": 1,
   "metadata": {
    "colab": {},
    "colab_type": "code",
    "id": "UVeJW4q1RMRa"
   },
   "outputs": [],
   "source": [
    "import numpy as np\n",
    "import pandas as pd\n",
    "import matplotlib.pyplot as plt\n",
    "import seaborn as sns\n"
   ]
  },
  {
   "cell_type": "code",
   "execution_count": 2,
   "metadata": {
    "colab": {},
    "colab_type": "code",
    "id": "2CN5CSH5RMRd"
   },
   "outputs": [],
   "source": [
    "url = \"https://raw.githubusercontent.com/TrainingByPackt/Big-Data-Analysis-with-Python/master/Lesson01/RadNet_Laboratory_Analysis.csv\"\n",
    "df = pd.read_csv(url)\n"
   ]
  },
  {
   "cell_type": "code",
   "execution_count": 3,
   "metadata": {
    "colab": {
     "base_uri": "https://localhost:8080/",
     "height": 340
    },
    "colab_type": "code",
    "id": "2mnQfvF5RMRg",
    "outputId": "aa5127ac-8b76-40f1-8f6c-e3ba593aea58"
   },
   "outputs": [
    {
     "data": {
      "text/plain": [
       "State              object\n",
       "Location           object\n",
       "Date Posted        object\n",
       "Date Collected     object\n",
       "Sample Type        object\n",
       "Unit               object\n",
       "Ba-140            float64\n",
       "Co-60             float64\n",
       "Cs-134              int64\n",
       "Cs-136            float64\n",
       "Cs-137              int64\n",
       "I-131               int64\n",
       "I-132               int64\n",
       "I-133             float64\n",
       "Te-129            float64\n",
       "Te-129m           float64\n",
       "Te-132              int64\n",
       "Ba-140.1          float64\n",
       "dtype: object"
      ]
     },
     "execution_count": 3,
     "metadata": {},
     "output_type": "execute_result"
    }
   ],
   "source": [
    "df.dtypes"
   ]
  },
  {
   "cell_type": "code",
   "execution_count": 4,
   "metadata": {
    "colab": {},
    "colab_type": "code",
    "id": "x8spXbSTRMRj"
   },
   "outputs": [],
   "source": [
    "df['Date Posted'] = pd.to_datetime(df['Date Posted'])\n",
    "df['Date Collected'] = pd.to_datetime(df['Date Collected'])\n"
   ]
  },
  {
   "cell_type": "code",
   "execution_count": 5,
   "metadata": {
    "colab": {
     "base_uri": "https://localhost:8080/",
     "height": 221
    },
    "colab_type": "code",
    "id": "PiUDyfkfRMRm",
    "outputId": "09d1baeb-b332-45bf-f285-963e5a3ff166"
   },
   "outputs": [
    {
     "data": {
      "text/plain": [
       "['Te-129m',\n",
       " 'I-131',\n",
       " 'Te-132',\n",
       " 'Co-60',\n",
       " 'Cs-134',\n",
       " 'Cs-136',\n",
       " 'Ba-140',\n",
       " 'Cs-137',\n",
       " 'I-132',\n",
       " 'I-133',\n",
       " 'Te-129',\n",
       " 'Ba-140.1']"
      ]
     },
     "execution_count": 5,
     "metadata": {},
     "output_type": "execute_result"
    }
   ],
   "source": [
    "columns = df.columns\n",
    "id_cols = ['State', 'Location', \"Date Posted\", 'Date Collected', 'Sample Type', 'Unit']\n",
    "columns = list(set(columns) - set(id_cols))\n",
    "columns\n"
   ]
  },
  {
   "cell_type": "code",
   "execution_count": 6,
   "metadata": {
    "colab": {},
    "colab_type": "code",
    "id": "w1lGm6ElRMRp"
   },
   "outputs": [],
   "source": [
    "df['Cs-134'] = df['Cs-134'].apply(lambda x: np.nan if x == \"Non-detect\" else x)\n",
    "df.loc[:, columns] = df.loc[:, columns].applymap(lambda x: np.nan if x == 'Non-detect' else x)\n",
    "df.loc[:, columns] = df.loc[:, columns].applymap(lambda x: np.nan if x == 'ND' else x)\n",
    "\n"
   ]
  },
  {
   "cell_type": "code",
   "execution_count": 7,
   "metadata": {
    "colab": {},
    "colab_type": "code",
    "id": "sYPD58qqRMRs"
   },
   "outputs": [],
   "source": [
    "for col in columns:\n",
    "    df[col] = pd.to_numeric(df[col])\n"
   ]
  },
  {
   "cell_type": "code",
   "execution_count": 8,
   "metadata": {
    "colab": {
     "base_uri": "https://localhost:8080/",
     "height": 340
    },
    "colab_type": "code",
    "id": "RPZo8FLiRMRu",
    "outputId": "c237b967-cf68-48eb-bb06-a20c0b5abd54"
   },
   "outputs": [
    {
     "data": {
      "text/plain": [
       "State                     object\n",
       "Location                  object\n",
       "Date Posted       datetime64[ns]\n",
       "Date Collected    datetime64[ns]\n",
       "Sample Type               object\n",
       "Unit                      object\n",
       "Ba-140                   float64\n",
       "Co-60                    float64\n",
       "Cs-134                     int64\n",
       "Cs-136                   float64\n",
       "Cs-137                     int64\n",
       "I-131                      int64\n",
       "I-132                      int64\n",
       "I-133                    float64\n",
       "Te-129                   float64\n",
       "Te-129m                  float64\n",
       "Te-132                     int64\n",
       "Ba-140.1                 float64\n",
       "dtype: object"
      ]
     },
     "execution_count": 8,
     "metadata": {},
     "output_type": "execute_result"
    }
   ],
   "source": [
    "df.dtypes"
   ]
  },
  {
   "cell_type": "code",
   "execution_count": 9,
   "metadata": {
    "colab": {},
    "colab_type": "code",
    "id": "-e_cDJkORMRy"
   },
   "outputs": [],
   "source": [
    "df['State'] = df['State'].astype('category')\n",
    "df['Location'] = df['Location'].astype('category')\n",
    "df['Unit'] = df['Unit'].astype('category')\n",
    "df['Sample Type'] = df['Sample Type'].astype('category')\n"
   ]
  },
  {
   "cell_type": "code",
   "execution_count": 10,
   "metadata": {
    "colab": {
     "base_uri": "https://localhost:8080/",
     "height": 340
    },
    "colab_type": "code",
    "id": "gkYp3ToRRMR0",
    "outputId": "3ef15ffc-c923-4178-d150-012fced15f8f"
   },
   "outputs": [
    {
     "data": {
      "text/plain": [
       "State                   category\n",
       "Location                category\n",
       "Date Posted       datetime64[ns]\n",
       "Date Collected    datetime64[ns]\n",
       "Sample Type             category\n",
       "Unit                    category\n",
       "Ba-140                   float64\n",
       "Co-60                    float64\n",
       "Cs-134                     int64\n",
       "Cs-136                   float64\n",
       "Cs-137                     int64\n",
       "I-131                      int64\n",
       "I-132                      int64\n",
       "I-133                    float64\n",
       "Te-129                   float64\n",
       "Te-129m                  float64\n",
       "Te-132                     int64\n",
       "Ba-140.1                 float64\n",
       "dtype: object"
      ]
     },
     "execution_count": 10,
     "metadata": {},
     "output_type": "execute_result"
    }
   ],
   "source": [
    "df.dtypes"
   ]
  },
  {
   "cell_type": "code",
   "execution_count": null,
   "metadata": {
    "colab": {},
    "colab_type": "code",
    "id": "nwI0JUU0RMSP"
   },
   "outputs": [],
   "source": []
  }
 ],
 "metadata": {
  "colab": {
   "name": "Exercise_1_7.ipynb",
   "provenance": [],
   "version": "0.3.2"
  },
  "kernelspec": {
   "display_name": "Python 3",
   "language": "python",
   "name": "python3"
  },
  "language_info": {
   "codemirror_mode": {
    "name": "ipython",
    "version": 3
   },
   "file_extension": ".py",
   "mimetype": "text/x-python",
   "name": "python",
   "nbconvert_exporter": "python",
   "pygments_lexer": "ipython3",
   "version": "3.6.7"
  }
 },
 "nbformat": 4,
 "nbformat_minor": 1
}
