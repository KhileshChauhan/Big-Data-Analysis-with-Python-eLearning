{
 "cells": [
  {
   "cell_type": "code",
   "execution_count": 1,
   "metadata": {},
   "outputs": [],
   "source": [
    "from pyspark.sql import SparkSession\n",
    "spark = SparkSession.builder.appName(\"Python Spark Session\").getOrCreate()"
   ]
  },
  {
   "cell_type": "code",
   "execution_count": 2,
   "metadata": {},
   "outputs": [],
   "source": [
    "from operator import add\n",
    "rdd_df = spark.read.text(\"data/shake.txt\").rdd"
   ]
  },
  {
   "cell_type": "code",
   "execution_count": 3,
   "metadata": {},
   "outputs": [],
   "source": [
    "lines = rdd_df.map(lambda line: line[0])"
   ]
  },
  {
   "cell_type": "code",
   "execution_count": 4,
   "metadata": {},
   "outputs": [
    {
     "data": {
      "text/plain": [
       "['To be, or not to be, that is the question:',\n",
       " \"Whether 'tis nobler in the mind to suffer\",\n",
       " 'The slings and arrows of outrageous fortune,',\n",
       " 'Or to take arms against a sea of troubles',\n",
       " 'And by opposing end them. To die—to sleep,',\n",
       " 'No more; and by a sleep to say we end',\n",
       " 'The heart-ache and the thousand natural shocks',\n",
       " \"That flesh is heir to: 'tis a consummation\",\n",
       " \"Devoutly to be wish'd. To die, to sleep;\",\n",
       " \"To sleep, perchance to dream—ay, there's the rub:\",\n",
       " 'For in that sleep of death what dreams may come,',\n",
       " 'When we have shuffled off this mortal coil,',\n",
       " \"Must give us pause—there's the respect\",\n",
       " 'That makes calamity of so long life.']"
      ]
     },
     "execution_count": 4,
     "metadata": {},
     "output_type": "execute_result"
    }
   ],
   "source": [
    "lines.collect()"
   ]
  },
  {
   "cell_type": "code",
   "execution_count": 5,
   "metadata": {},
   "outputs": [
    {
     "data": {
      "text/plain": [
       "14"
      ]
     },
     "execution_count": 5,
     "metadata": {},
     "output_type": "execute_result"
    }
   ],
   "source": [
    "lines.count()"
   ]
  },
  {
   "cell_type": "code",
   "execution_count": 6,
   "metadata": {},
   "outputs": [],
   "source": [
    "splits = lines.flatMap(lambda x: x.split(' '))\n",
    "lower_splits = splits.map(lambda x: x.lower().strip())"
   ]
  },
  {
   "cell_type": "code",
   "execution_count": 7,
   "metadata": {},
   "outputs": [],
   "source": [
    "prep = ['the', 'a', ',', '.']"
   ]
  },
  {
   "cell_type": "code",
   "execution_count": 8,
   "metadata": {},
   "outputs": [],
   "source": [
    "tokens = lower_splits.filter(lambda x: x and x not in prep)"
   ]
  },
  {
   "cell_type": "code",
   "execution_count": 9,
   "metadata": {},
   "outputs": [],
   "source": [
    "token_list = tokens.map(lambda x: [x, 1])"
   ]
  },
  {
   "cell_type": "code",
   "execution_count": 10,
   "metadata": {},
   "outputs": [
    {
     "data": {
      "text/plain": [
       "[('to', 11),\n",
       " ('that', 4),\n",
       " ('and', 4),\n",
       " ('of', 4),\n",
       " ('be,', 2),\n",
       " ('or', 2),\n",
       " ('is', 2),\n",
       " (\"'tis\", 2),\n",
       " ('in', 2),\n",
       " ('by', 2),\n",
       " ('end', 2),\n",
       " ('sleep,', 2),\n",
       " ('sleep', 2),\n",
       " ('we', 2),\n",
       " ('not', 1),\n",
       " ('question:', 1),\n",
       " ('whether', 1),\n",
       " ('nobler', 1),\n",
       " ('mind', 1),\n",
       " ('suffer', 1),\n",
       " ('slings', 1),\n",
       " ('arrows', 1),\n",
       " ('outrageous', 1),\n",
       " ('fortune,', 1),\n",
       " ('take', 1),\n",
       " ('arms', 1),\n",
       " ('against', 1),\n",
       " ('sea', 1),\n",
       " ('troubles', 1),\n",
       " ('opposing', 1),\n",
       " ('them.', 1),\n",
       " ('die—to', 1),\n",
       " ('no', 1),\n",
       " ('more;', 1),\n",
       " ('say', 1),\n",
       " ('heart-ache', 1),\n",
       " ('thousand', 1),\n",
       " ('natural', 1),\n",
       " ('shocks', 1),\n",
       " ('flesh', 1),\n",
       " ('heir', 1),\n",
       " ('to:', 1),\n",
       " ('consummation', 1),\n",
       " ('devoutly', 1),\n",
       " ('be', 1),\n",
       " (\"wish'd.\", 1),\n",
       " ('die,', 1),\n",
       " ('sleep;', 1),\n",
       " ('perchance', 1),\n",
       " ('dream—ay,', 1),\n",
       " (\"there's\", 1),\n",
       " ('rub:', 1),\n",
       " ('for', 1),\n",
       " ('death', 1),\n",
       " ('what', 1),\n",
       " ('dreams', 1),\n",
       " ('may', 1),\n",
       " ('come,', 1),\n",
       " ('when', 1),\n",
       " ('have', 1),\n",
       " ('shuffled', 1),\n",
       " ('off', 1),\n",
       " ('this', 1),\n",
       " ('mortal', 1),\n",
       " ('coil,', 1),\n",
       " ('must', 1),\n",
       " ('give', 1),\n",
       " ('us', 1),\n",
       " (\"pause—there's\", 1),\n",
       " ('respect', 1),\n",
       " ('makes', 1),\n",
       " ('calamity', 1),\n",
       " ('so', 1),\n",
       " ('long', 1),\n",
       " ('life.', 1)]"
      ]
     },
     "execution_count": 10,
     "metadata": {},
     "output_type": "execute_result"
    }
   ],
   "source": [
    "count = token_list.reduceByKey(add).sortBy(lambda x: x[1],\n",
    "ascending=False)\n",
    "count.collect()\n"
   ]
  },
  {
   "cell_type": "code",
   "execution_count": null,
   "metadata": {},
   "outputs": [],
   "source": []
  }
 ],
 "metadata": {
  "kernelspec": {
   "display_name": "Python 3",
   "language": "python",
   "name": "python3"
  },
  "language_info": {
   "codemirror_mode": {
    "name": "ipython",
    "version": 3
   },
   "file_extension": ".py",
   "mimetype": "text/x-python",
   "name": "python",
   "nbconvert_exporter": "python",
   "pygments_lexer": "ipython3",
   "version": "3.6.7"
  }
 },
 "nbformat": 4,
 "nbformat_minor": 2
}
