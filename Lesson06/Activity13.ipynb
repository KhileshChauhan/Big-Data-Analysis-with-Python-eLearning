{
 "cells": [
  {
   "cell_type": "markdown",
   "metadata": {
    "colab_type": "text",
    "id": "v9JKxy4-Euh6"
   },
   "source": [
    "## Activity 13: Carry Out Mapping to Gaussian Distribution of Numeric Features from the Given Data"
   ]
  },
  {
   "cell_type": "code",
   "execution_count": 1,
   "metadata": {
    "colab": {},
    "colab_type": "code",
    "id": "yHf8EObtM3BG"
   },
   "outputs": [],
   "source": [
    "import numpy as np\n",
    "import pandas as pd\n",
    "import seaborn as sns\n",
    "import time\n",
    "import re\n",
    "import os\n",
    "import matplotlib.pyplot as plt\n",
    "sns.set(style=\"ticks\")\n",
    "\n",
    "import sklearn as sk\n",
    "from scipy import stats\n",
    "from sklearn import preprocessing\n",
    "\n",
    "\n",
    "# read the downloaded input data (marketing data)\n",
    "df = pd.read_csv('bank.csv', sep=';')\n"
   ]
  },
  {
   "cell_type": "code",
   "execution_count": 2,
   "metadata": {
    "colab": {
     "base_uri": "https://localhost:8080/",
     "height": 204
    },
    "colab_type": "code",
    "id": "VebD6u7_OloE",
    "outputId": "4fec310f-617c-44f0-a658-a63ddf328c2e"
   },
   "outputs": [
    {
     "data": {
      "text/html": [
       "<div>\n",
       "<style scoped>\n",
       "    .dataframe tbody tr th:only-of-type {\n",
       "        vertical-align: middle;\n",
       "    }\n",
       "\n",
       "    .dataframe tbody tr th {\n",
       "        vertical-align: top;\n",
       "    }\n",
       "\n",
       "    .dataframe thead th {\n",
       "        text-align: right;\n",
       "    }\n",
       "</style>\n",
       "<table border=\"1\" class=\"dataframe\">\n",
       "  <thead>\n",
       "    <tr style=\"text-align: right;\">\n",
       "      <th></th>\n",
       "      <th>age</th>\n",
       "      <th>balance</th>\n",
       "      <th>day</th>\n",
       "      <th>duration</th>\n",
       "      <th>campaign</th>\n",
       "      <th>pdays</th>\n",
       "      <th>previous</th>\n",
       "    </tr>\n",
       "  </thead>\n",
       "  <tbody>\n",
       "    <tr>\n",
       "      <th>0</th>\n",
       "      <td>30</td>\n",
       "      <td>1787</td>\n",
       "      <td>19</td>\n",
       "      <td>79</td>\n",
       "      <td>1</td>\n",
       "      <td>-1</td>\n",
       "      <td>0</td>\n",
       "    </tr>\n",
       "    <tr>\n",
       "      <th>1</th>\n",
       "      <td>33</td>\n",
       "      <td>4789</td>\n",
       "      <td>11</td>\n",
       "      <td>220</td>\n",
       "      <td>1</td>\n",
       "      <td>339</td>\n",
       "      <td>4</td>\n",
       "    </tr>\n",
       "    <tr>\n",
       "      <th>2</th>\n",
       "      <td>35</td>\n",
       "      <td>1350</td>\n",
       "      <td>16</td>\n",
       "      <td>185</td>\n",
       "      <td>1</td>\n",
       "      <td>330</td>\n",
       "      <td>1</td>\n",
       "    </tr>\n",
       "    <tr>\n",
       "      <th>3</th>\n",
       "      <td>30</td>\n",
       "      <td>1476</td>\n",
       "      <td>3</td>\n",
       "      <td>199</td>\n",
       "      <td>4</td>\n",
       "      <td>-1</td>\n",
       "      <td>0</td>\n",
       "    </tr>\n",
       "    <tr>\n",
       "      <th>4</th>\n",
       "      <td>59</td>\n",
       "      <td>0</td>\n",
       "      <td>5</td>\n",
       "      <td>226</td>\n",
       "      <td>1</td>\n",
       "      <td>-1</td>\n",
       "      <td>0</td>\n",
       "    </tr>\n",
       "  </tbody>\n",
       "</table>\n",
       "</div>"
      ],
      "text/plain": [
       "   age  balance  day  duration  campaign  pdays  previous\n",
       "0   30     1787   19        79         1     -1         0\n",
       "1   33     4789   11       220         1    339         4\n",
       "2   35     1350   16       185         1    330         1\n",
       "3   30     1476    3       199         4     -1         0\n",
       "4   59        0    5       226         1     -1         0"
      ]
     },
     "execution_count": 2,
     "metadata": {},
     "output_type": "execute_result"
    }
   ],
   "source": [
    "numeric_df = df._get_numeric_data()\n",
    "numeric_df.head()\n"
   ]
  },
  {
   "cell_type": "code",
   "execution_count": 3,
   "metadata": {
    "colab": {
     "base_uri": "https://localhost:8080/",
     "height": 255
    },
    "colab_type": "code",
    "id": "o2WV5TVaOpCt",
    "outputId": "57230895-fc6d-4689-d4c8-f906ba8a476c"
   },
   "outputs": [
    {
     "name": "stdout",
     "output_type": "stream",
     "text": [
      "p = 1.98749e-70\n",
      "The null hypothesis can be rejected: non-normal distribution\n",
      "p = 0\n",
      "The null hypothesis can be rejected: non-normal distribution\n",
      "p = 3.08647e-278\n",
      "The null hypothesis can be rejected: non-normal distribution\n",
      "p = 0\n",
      "The null hypothesis can be rejected: non-normal distribution\n",
      "p = 0\n",
      "The null hypothesis can be rejected: non-normal distribution\n",
      "p = 0\n",
      "The null hypothesis can be rejected: non-normal distribution\n",
      "p = 0\n",
      "The null hypothesis can be rejected: non-normal distribution\n"
     ]
    }
   ],
   "source": [
    "numeric_df_array = np.array(numeric_df) # converting to numpy arrays for more efficient computation\n",
    "\n",
    "loop_c = -1\n",
    "col_for_normalization = list()\n",
    "\n",
    "for column in numeric_df_array.T:\n",
    "    loop_c+=1\n",
    "    x = column\n",
    "    k2, p = stats.normaltest(x) \n",
    "    alpha = 0.001\n",
    "    print(\"p = {:g}\".format(p))\n",
    "        \n",
    "    # rules for printing the normality output\n",
    "    if p < alpha:\n",
    "        test_result = \"non_normal_distr\"\n",
    "        col_for_normalization.append((loop_c)) # applicable if yeo-johnson is used\n",
    "        \n",
    "        #if min(x) > 0: # applicable if box-cox is used\n",
    "            #col_for_normalization.append((loop_c)) # applicable if box-cox is used\n",
    "        print(\"The null hypothesis can be rejected: non-normal distribution\")\n",
    "        \n",
    "    else:\n",
    "        test_result = \"normal_distr\"\n",
    "        print(\"The null hypothesis cannot be rejected: normal distribution\")\n"
   ]
  },
  {
   "cell_type": "code",
   "execution_count": 4,
   "metadata": {
    "colab": {
     "base_uri": "https://localhost:8080/",
     "height": 291
    },
    "colab_type": "code",
    "id": "k5oOgytKOrrL",
    "outputId": "513a341c-ea46-4008-c061-4a6089485e04"
   },
   "outputs": [
    {
     "data": {
      "text/plain": [
       "<matplotlib.axes._subplots.AxesSubplot at 0x7fcc72e9ebe0>"
      ]
     },
     "execution_count": 4,
     "metadata": {},
     "output_type": "execute_result"
    },
    {
     "data": {
      "image/png": "[encoded data removed]",
      "text/plain": [
       "<Figure size 432x288 with 1 Axes>"
      ]
     },
     "metadata": {
      "needs_background": "light"
     },
     "output_type": "display_data"
    }
   ],
   "source": [
    "columns_to_normalize = numeric_df[numeric_df.columns[col_for_normalization]]\n",
    "names_col = list(columns_to_normalize)\n",
    "\n",
    "# density plots of the features to check the normality\n",
    "columns_to_normalize.plot.kde(bw_method=3)\n"
   ]
  },
  {
   "cell_type": "code",
   "execution_count": 5,
   "metadata": {
    "colab": {},
    "colab_type": "code",
    "id": "b7SWjx49O1o6"
   },
   "outputs": [],
   "source": [
    "pt = preprocessing.PowerTransformer(method='yeo-johnson', standardize=True, copy=True)\n",
    "normalized_columns = pt.fit_transform(columns_to_normalize)\n",
    "normalized_columns = pd.DataFrame(normalized_columns, columns=names_col)\n"
   ]
  },
  {
   "cell_type": "code",
   "execution_count": 6,
   "metadata": {
    "colab": {
     "base_uri": "https://localhost:8080/",
     "height": 291
    },
    "colab_type": "code",
    "id": "_DN7iTVDO4ve",
    "outputId": "31754b55-38a4-44f8-942a-62e56242db64"
   },
   "outputs": [
    {
     "data": {
      "text/plain": [
       "<matplotlib.axes._subplots.AxesSubplot at 0x7fcc70dc4710>"
      ]
     },
     "execution_count": 6,
     "metadata": {},
     "output_type": "execute_result"
    },
    {
     "data": {
      "image/png": "[encoded data removed]",
      "text/plain": [
       "<Figure size 432x288 with 1 Axes>"
      ]
     },
     "metadata": {
      "needs_background": "light"
     },
     "output_type": "display_data"
    }
   ],
   "source": [
    "normalized_columns.plot.kde(bw_method=3)"
   ]
  }
 ],
 "metadata": {
  "colab": {
   "collapsed_sections": [],
   "name": "Activity01.ipynb",
   "provenance": [],
   "version": "0.3.2"
  },
  "kernelspec": {
   "display_name": "Python 3",
   "language": "python",
   "name": "python3"
  },
  "language_info": {
   "codemirror_mode": {
    "name": "ipython",
    "version": 3
   },
   "file_extension": ".py",
   "mimetype": "text/x-python",
   "name": "python",
   "nbconvert_exporter": "python",
   "pygments_lexer": "ipython3",
   "version": "3.6.7"
  }
 },
 "nbformat": 4,
 "nbformat_minor": 1
}
