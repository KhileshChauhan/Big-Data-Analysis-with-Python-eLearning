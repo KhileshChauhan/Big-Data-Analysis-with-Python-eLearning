{
 "cells": [
  {
   "cell_type": "markdown",
   "metadata": {
    "colab_type": "text",
    "id": "OdNZjunkua1o"
   },
   "source": [
    "## Activity 9: Getting started with Spark DataFrames"
   ]
  },
  {
   "cell_type": "markdown",
   "metadata": {
    "colab_type": "text",
    "id": "WoAtmcnKua1q"
   },
   "source": [
    "### Create a sample dataframe by manually specifying the schema"
   ]
  },
  {
   "cell_type": "code",
   "execution_count": 1,
   "metadata": {
    "colab": {},
    "colab_type": "code",
    "id": "PiKH3-cCua1r"
   },
   "outputs": [],
   "source": [
    "# Importing findspark module to connect jupyter with spark \n",
    "\n",
    "import pyspark\n",
    "import os"
   ]
  },
  {
   "cell_type": "code",
   "execution_count": 2,
   "metadata": {
    "colab": {},
    "colab_type": "code",
    "id": "2mTFT6zpua1w"
   },
   "outputs": [],
   "source": [
    "# Creating spark context & sqlcontext\n",
    "sc = pyspark.SparkContext()\n",
    "from pyspark.sql import SQLContext\n",
    "sqlc = SQLContext(sc)"
   ]
  },
  {
   "cell_type": "code",
   "execution_count": 3,
   "metadata": {
    "colab": {
     "base_uri": "https://localhost:8080/",
     "height": 34
    },
    "colab_type": "code",
    "id": "PzpyKr4sua10",
    "outputId": "37583509-0be7-4530-9a09-69f8c1e2e5f7"
   },
   "outputs": [
    {
     "data": {
      "text/plain": [
       "pyspark.sql.dataframe.DataFrame"
      ]
     },
     "execution_count": 3,
     "metadata": {},
     "output_type": "execute_result"
    }
   ],
   "source": [
    "from pyspark.sql import *\n",
    "na_schema = Row(\"Name\",\"Subject\",\"Marks\")\n",
    "row1 = na_schema(\"Ankit\", \"Science\",95)\n",
    "row2 = na_schema(\"Ankit\", \"Maths\", 86)\n",
    "row3 = na_schema(\"Preity\", \"Maths\", 92)\n",
    "na_list = [row1, row2, row3]\n",
    "df_na = sqlc.createDataFrame(na_list)\n",
    "type(df_na)"
   ]
  },
  {
   "cell_type": "code",
   "execution_count": 4,
   "metadata": {
    "colab": {
     "base_uri": "https://localhost:8080/",
     "height": 153
    },
    "colab_type": "code",
    "id": "CtCHinyoua17",
    "outputId": "4dba1f2e-459a-485f-a662-e879df44d0e3"
   },
   "outputs": [
    {
     "name": "stdout",
     "output_type": "stream",
     "text": [
      "+------+-------+-----+\n",
      "|  Name|Subject|Marks|\n",
      "+------+-------+-----+\n",
      "| Ankit|Science|   95|\n",
      "| Ankit|  Maths|   86|\n",
      "|Preity|  Maths|   92|\n",
      "+------+-------+-----+\n",
      "\n"
     ]
    }
   ],
   "source": [
    "df_na.show()"
   ]
  },
  {
   "cell_type": "markdown",
   "metadata": {
    "colab_type": "text",
    "id": "Ly1BtJNWua2A"
   },
   "source": [
    "### Create a sample dataframe from an existing RDD"
   ]
  },
  {
   "cell_type": "code",
   "execution_count": 5,
   "metadata": {
    "colab": {
     "base_uri": "https://localhost:8080/",
     "height": 34
    },
    "colab_type": "code",
    "id": "d4V8u4S8ua2B",
    "outputId": "bc0c5d77-6246-480d-d1a9-a2bca0f28bb2"
   },
   "outputs": [
    {
     "data": {
      "text/plain": [
       "pyspark.rdd.RDD"
      ]
     },
     "execution_count": 5,
     "metadata": {},
     "output_type": "execute_result"
    }
   ],
   "source": [
    "## Creating a RDD\n",
    "data = [(\"Ankit\",\"Science\",95),(\"Preity\",\"Maths\",86),(\"Ankit\",\"Maths\",86)]\n",
    "data_rdd = sc.parallelize(data)\n",
    "type(data_rdd)"
   ]
  },
  {
   "cell_type": "code",
   "execution_count": 6,
   "metadata": {
    "colab": {
     "base_uri": "https://localhost:8080/",
     "height": 153
    },
    "colab_type": "code",
    "id": "TUNC-G77ua2G",
    "outputId": "edd6be67-a601-4de9-f1d1-6f95d391a41d"
   },
   "outputs": [
    {
     "name": "stdout",
     "output_type": "stream",
     "text": [
      "+------+-------+---+\n",
      "|    _1|     _2| _3|\n",
      "+------+-------+---+\n",
      "| Ankit|Science| 95|\n",
      "|Preity|  Maths| 86|\n",
      "| Ankit|  Maths| 86|\n",
      "+------+-------+---+\n",
      "\n"
     ]
    }
   ],
   "source": [
    "## Converting RDD to dataframe\n",
    "data_df = sqlc.createDataFrame(data_rdd)\n",
    "data_df.show()"
   ]
  },
  {
   "cell_type": "markdown",
   "metadata": {
    "colab_type": "text",
    "id": "E2xJxoO0ua2I"
   },
   "source": [
    "### Create a sample dataframe by reading the data from a csv file"
   ]
  },
  {
   "cell_type": "code",
   "execution_count": 7,
   "metadata": {
    "colab": {
     "base_uri": "https://localhost:8080/",
     "height": 34
    },
    "colab_type": "code",
    "id": "4Yvfn3jRua2J",
    "outputId": "c640a823-2ea6-45d9-fde9-64a1c2a22d02"
   },
   "outputs": [
    {
     "data": {
      "text/plain": [
       "pyspark.sql.dataframe.DataFrame"
      ]
     },
     "execution_count": 7,
     "metadata": {},
     "output_type": "execute_result"
    }
   ],
   "source": [
    "df = sqlc.read.format('com.databricks.spark.csv').options(header='true', inferschema='true').load('mtcars.csv')\n",
    "type(df)"
   ]
  },
  {
   "cell_type": "markdown",
   "metadata": {
    "colab_type": "text",
    "id": "xtX1WRH0ua2M"
   },
   "source": [
    "### Print first 7 rows of the dataframe"
   ]
  },
  {
   "cell_type": "code",
   "execution_count": 8,
   "metadata": {
    "colab": {
     "base_uri": "https://localhost:8080/",
     "height": 238
    },
    "colab_type": "code",
    "id": "oudof3cwua2N",
    "outputId": "468cebd7-0dab-49fa-b437-a198b0beb3b5"
   },
   "outputs": [
    {
     "name": "stdout",
     "output_type": "stream",
     "text": [
      "+-----------------+----+---+-----+---+----+-----+-----+---+---+----+----+\n",
      "|            model| mpg|cyl| disp| hp|drat|   wt| qsec| vs| am|gear|carb|\n",
      "+-----------------+----+---+-----+---+----+-----+-----+---+---+----+----+\n",
      "|        Mazda RX4|21.0|  6|160.0|110| 3.9| 2.62|16.46|  0|  1|   4|   4|\n",
      "|    Mazda RX4 Wag|21.0|  6|160.0|110| 3.9|2.875|17.02|  0|  1|   4|   4|\n",
      "|       Datsun 710|22.8|  4|108.0| 93|3.85| 2.32|18.61|  1|  1|   4|   1|\n",
      "|   Hornet 4 Drive|21.4|  6|258.0|110|3.08|3.215|19.44|  1|  0|   3|   1|\n",
      "|Hornet Sportabout|18.7|  8|360.0|175|3.15| 3.44|17.02|  0|  0|   3|   2|\n",
      "|          Valiant|18.1|  6|225.0|105|2.76| 3.46|20.22|  1|  0|   3|   1|\n",
      "|       Duster 360|14.3|  8|360.0|245|3.21| 3.57|15.84|  0|  0|   3|   4|\n",
      "+-----------------+----+---+-----+---+----+-----+-----+---+---+----+----+\n",
      "only showing top 7 rows\n",
      "\n"
     ]
    }
   ],
   "source": [
    "df.show(7)"
   ]
  },
  {
   "cell_type": "markdown",
   "metadata": {
    "colab_type": "text",
    "id": "ipODfU4Xua2Q"
   },
   "source": [
    "### Print the schema of the dataframe "
   ]
  },
  {
   "cell_type": "code",
   "execution_count": 9,
   "metadata": {
    "colab": {
     "base_uri": "https://localhost:8080/",
     "height": 255
    },
    "colab_type": "code",
    "id": "6Kyp8ON6ua2R",
    "outputId": "f692f962-f44d-43c3-b27e-b946e13bd58d"
   },
   "outputs": [
    {
     "name": "stdout",
     "output_type": "stream",
     "text": [
      "root\n",
      " |-- model: string (nullable = true)\n",
      " |-- mpg: double (nullable = true)\n",
      " |-- cyl: integer (nullable = true)\n",
      " |-- disp: double (nullable = true)\n",
      " |-- hp: integer (nullable = true)\n",
      " |-- drat: double (nullable = true)\n",
      " |-- wt: double (nullable = true)\n",
      " |-- qsec: double (nullable = true)\n",
      " |-- vs: integer (nullable = true)\n",
      " |-- am: integer (nullable = true)\n",
      " |-- gear: integer (nullable = true)\n",
      " |-- carb: integer (nullable = true)\n",
      "\n"
     ]
    }
   ],
   "source": [
    "df.printSchema()"
   ]
  },
  {
   "cell_type": "markdown",
   "metadata": {
    "colab_type": "text",
    "id": "64-QKXV8ua2T"
   },
   "source": [
    "### Print the number of columns and rows in dataframe"
   ]
  },
  {
   "cell_type": "code",
   "execution_count": 10,
   "metadata": {
    "colab": {
     "base_uri": "https://localhost:8080/",
     "height": 51
    },
    "colab_type": "code",
    "id": "eCZ0Oi4eua2U",
    "outputId": "c704f636-0814-4443-fead-bf411667a61d"
   },
   "outputs": [
    {
     "name": "stdout",
     "output_type": "stream",
     "text": [
      "number of rows:32\n",
      "number of columns:12\n"
     ]
    }
   ],
   "source": [
    "print('number of rows:'+ str(df.count()))\n",
    "print('number of columns:'+ str(len(df.columns)))"
   ]
  },
  {
   "cell_type": "markdown",
   "metadata": {
    "colab_type": "text",
    "id": "8un4UPL-ua2Y"
   },
   "source": [
    "### Print the summary statistics of dataframe and any 2 individual columns"
   ]
  },
  {
   "cell_type": "code",
   "execution_count": 11,
   "metadata": {
    "colab": {
     "base_uri": "https://localhost:8080/",
     "height": 207
    },
    "colab_type": "code",
    "id": "XhNVAYJxua2Z",
    "outputId": "cf21c1bb-4a49-40e0-fa60-2f0288394262"
   },
   "outputs": [
    {
     "name": "stdout",
     "output_type": "stream",
     "text": [
      "+-------+------------------+------------------+-----------------+\n",
      "|summary|               mpg|               cyl|               hp|\n",
      "+-------+------------------+------------------+-----------------+\n",
      "|  count|                32|                32|               32|\n",
      "|   mean|20.090624999999996|            6.1875|         146.6875|\n",
      "| stddev| 6.026948052089103|1.7859216469465444|68.56286848932059|\n",
      "|    min|              10.4|                 4|               52|\n",
      "|    max|              33.9|                 8|              335|\n",
      "+-------+------------------+------------------+-----------------+\n",
      "\n"
     ]
    }
   ],
   "source": [
    "## Summary statistics of the dataframe\n",
    "df.describe().select(['summary', 'mpg', 'cyl', 'hp']).show()"
   ]
  },
  {
   "cell_type": "code",
   "execution_count": 12,
   "metadata": {
    "colab": {
     "base_uri": "https://localhost:8080/",
     "height": 187
    },
    "colab_type": "code",
    "id": "y3cvWQElua2l",
    "outputId": "b989dbb4-8b40-4656-ca43-41aa0a531699"
   },
   "outputs": [
    {
     "name": "stdout",
     "output_type": "stream",
     "text": [
      "+-------+------------------+------------------+\n",
      "|summary|               mpg|               cyl|\n",
      "+-------+------------------+------------------+\n",
      "|  count|                32|                32|\n",
      "|   mean|20.090624999999996|            6.1875|\n",
      "| stddev| 6.026948052089103|1.7859216469465444|\n",
      "|    min|              10.4|                 4|\n",
      "|    max|              33.9|                 8|\n",
      "+-------+------------------+------------------+\n",
      "\n"
     ]
    }
   ],
   "source": [
    "## Summary of any 2 columns\n",
    "df.describe(['mpg','cyl']).show()"
   ]
  },
  {
   "cell_type": "markdown",
   "metadata": {
    "colab_type": "text",
    "id": "Rf9qEsKSua2q"
   },
   "source": [
    "### Write first 7 rows of the sample dataframe in a csv file"
   ]
  },
  {
   "cell_type": "code",
   "execution_count": 13,
   "metadata": {
    "colab": {},
    "colab_type": "code",
    "id": "gG6tnTj1ua2s"
   },
   "outputs": [],
   "source": [
    "df_p = df.toPandas()\n",
    "df_p.head(7).to_csv(\"mtcars_head.csv\")"
   ]
  },
  {
   "cell_type": "code",
   "execution_count": null,
   "metadata": {},
   "outputs": [],
   "source": []
  }
 ],
 "metadata": {
  "colab": {
   "name": "Activity 1- Diving Deeper with Spark.ipynb",
   "provenance": [],
   "version": "0.3.2"
  },
  "kernelspec": {
   "display_name": "Python 3",
   "language": "python",
   "name": "python3"
  },
  "language_info": {
   "codemirror_mode": {
    "name": "ipython",
    "version": 3
   },
   "file_extension": ".py",
   "mimetype": "text/x-python",
   "name": "python",
   "nbconvert_exporter": "python",
   "pygments_lexer": "ipython3",
   "version": "3.6.7"
  }
 },
 "nbformat": 4,
 "nbformat_minor": 1
}
