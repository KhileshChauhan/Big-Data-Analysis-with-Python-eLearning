{
 "cells": [
  {
   "cell_type": "markdown",
   "metadata": {
    "colab_type": "text",
    "id": "8fQ2rPFO2AYz"
   },
   "source": [
    "# Activity 10: Data Manipulation with Spark DataFrames"
   ]
  },
  {
   "cell_type": "markdown",
   "metadata": {
    "colab_type": "text",
    "id": "-A82WXXD2AY1"
   },
   "source": [
    "#### We would be using the open source mtcars dataset for this activity. However, students should feel free to use any dataset of their choice"
   ]
  },
  {
   "cell_type": "code",
   "execution_count": 1,
   "metadata": {
    "colab": {},
    "colab_type": "code",
    "id": "FyA_F4Bu2AY3"
   },
   "outputs": [],
   "source": [
    "import pyspark\n",
    "import os"
   ]
  },
  {
   "cell_type": "code",
   "execution_count": 2,
   "metadata": {
    "colab": {},
    "colab_type": "code",
    "id": "Cef_jzR-2AY-"
   },
   "outputs": [],
   "source": [
    "# Creating spark context & sqlcontext\n",
    "sc = pyspark.SparkContext()\n",
    "from pyspark.sql import SQLContext\n",
    "sqlc = SQLContext(sc)"
   ]
  },
  {
   "cell_type": "code",
   "execution_count": 3,
   "metadata": {
    "colab": {
     "base_uri": "https://localhost:8080/",
     "height": 187
    },
    "colab_type": "code",
    "id": "5XdMtiZd2AZB",
    "outputId": "59529395-ef92-4c9d-df25-722c5cc8ea04"
   },
   "outputs": [
    {
     "name": "stdout",
     "output_type": "stream",
     "text": [
      "+--------------+----+---+-----+---+----+-----+-----+---+---+----+----+\n",
      "|         model| mpg|cyl| disp| hp|drat|   wt| qsec| vs| am|gear|carb|\n",
      "+--------------+----+---+-----+---+----+-----+-----+---+---+----+----+\n",
      "|     Mazda RX4|21.0|  6|160.0|110| 3.9| 2.62|16.46|  0|  1|   4|   4|\n",
      "| Mazda RX4 Wag|21.0|  6|160.0|110| 3.9|2.875|17.02|  0|  1|   4|   4|\n",
      "|    Datsun 710|22.8|  4|108.0| 93|3.85| 2.32|18.61|  1|  1|   4|   1|\n",
      "|Hornet 4 Drive|21.4|  6|258.0|110|3.08|3.215|19.44|  1|  0|   3|   1|\n",
      "+--------------+----+---+-----+---+----+-----+-----+---+---+----+----+\n",
      "only showing top 4 rows\n",
      "\n"
     ]
    }
   ],
   "source": [
    "# Creating a dataframe in spark\n",
    "df = sqlc.read.format('com.databricks.spark.csv').options(header='true', inferschema='true').load('mtcars.csv')\n",
    "df.show(4)"
   ]
  },
  {
   "cell_type": "markdown",
   "metadata": {
    "colab_type": "text",
    "id": "PAJcGvXb2AaT"
   },
   "source": [
    "### Rename any 5 columns of dataframe"
   ]
  },
  {
   "cell_type": "code",
   "execution_count": 4,
   "metadata": {
    "colab": {
     "base_uri": "https://localhost:8080/",
     "height": 221
    },
    "colab_type": "code",
    "id": "xLoDthgI2AaW",
    "outputId": "bc444457-4feb-42b3-bb35-c548a55bdb3d"
   },
   "outputs": [
    {
     "data": {
      "text/plain": [
       "['mpg_new',\n",
       " 'cyl_new',\n",
       " 'disp_new',\n",
       " 'hp_new',\n",
       " 'drat_new',\n",
       " 'drat',\n",
       " 'wt',\n",
       " 'qsec',\n",
       " 'vs',\n",
       " 'am',\n",
       " 'gear',\n",
       " 'carb']"
      ]
     },
     "execution_count": 4,
     "metadata": {},
     "output_type": "execute_result"
    }
   ],
   "source": [
    "data = df\n",
    "new_names = ['mpg_new', 'cyl_new', 'disp_new', 'hp_new', 'drat_new']\n",
    "for i,z in zip(data.columns[0:5],new_names):\n",
    "    data = data.withColumnRenamed(str(i),str(z))\n",
    "    \n",
    "data.columns"
   ]
  },
  {
   "cell_type": "markdown",
   "metadata": {
    "colab_type": "text",
    "id": "e5C7zUt-2Aah"
   },
   "source": [
    "### select any 2 numeric and 1 categorical column from the dataframe"
   ]
  },
  {
   "cell_type": "code",
   "execution_count": 5,
   "metadata": {
    "colab": {
     "base_uri": "https://localhost:8080/",
     "height": 204
    },
    "colab_type": "code",
    "id": "cRsXA4tQ2Aak",
    "outputId": "23609f13-860b-4c61-e6c6-27f085068817"
   },
   "outputs": [
    {
     "name": "stdout",
     "output_type": "stream",
     "text": [
      "+---+----+---+\n",
      "|cyl| mpg| hp|\n",
      "+---+----+---+\n",
      "|  6|21.0|110|\n",
      "|  6|21.0|110|\n",
      "|  4|22.8| 93|\n",
      "|  6|21.4|110|\n",
      "|  8|18.7|175|\n",
      "+---+----+---+\n",
      "only showing top 5 rows\n",
      "\n"
     ]
    }
   ],
   "source": [
    "data = df.select(['cyl','mpg','hp'])\n",
    "data.show(5)"
   ]
  },
  {
   "cell_type": "markdown",
   "metadata": {
    "colab_type": "text",
    "id": "icYSiB4u2Aat"
   },
   "source": [
    "### Count the number of distinct categories in the categorical variable"
   ]
  },
  {
   "cell_type": "code",
   "execution_count": 6,
   "metadata": {
    "colab": {
     "base_uri": "https://localhost:8080/",
     "height": 34
    },
    "colab_type": "code",
    "id": "9DtSL0Fs2Aaw",
    "outputId": "d9730c16-8703-4113-88ef-203071d82945"
   },
   "outputs": [
    {
     "data": {
      "text/plain": [
       "3"
      ]
     },
     "execution_count": 6,
     "metadata": {},
     "output_type": "execute_result"
    }
   ],
   "source": [
    "data.select('cyl').distinct().count()"
   ]
  },
  {
   "cell_type": "markdown",
   "metadata": {
    "colab_type": "text",
    "id": "j3OzS4E52Aa5"
   },
   "source": [
    "### Create 2 new columns in dataframe by summing up and multiplying together the 2 numerical columns"
   ]
  },
  {
   "cell_type": "code",
   "execution_count": 7,
   "metadata": {
    "colab": {
     "base_uri": "https://localhost:8080/",
     "height": 204
    },
    "colab_type": "code",
    "id": "Kef_mAXe2Aa6",
    "outputId": "adb8f413-3c90-493c-c779-138e00a45cd0"
   },
   "outputs": [
    {
     "name": "stdout",
     "output_type": "stream",
     "text": [
      "+---+----+---+------+----------+\n",
      "|cyl| mpg| hp|colsum|colproduct|\n",
      "+---+----+---+------+----------+\n",
      "|  6|21.0|110| 131.0|    2310.0|\n",
      "|  6|21.0|110| 131.0|    2310.0|\n",
      "|  4|22.8| 93| 115.8|    2120.4|\n",
      "|  6|21.4|110| 131.4|    2354.0|\n",
      "|  8|18.7|175| 193.7|    3272.5|\n",
      "+---+----+---+------+----------+\n",
      "only showing top 5 rows\n",
      "\n"
     ]
    }
   ],
   "source": [
    "data = data.withColumn('colsum',(df['mpg'] + df['hp']))\n",
    "data = data.withColumn('colproduct',(df['mpg'] * df['hp']))\n",
    "data.show(5)"
   ]
  },
  {
   "cell_type": "markdown",
   "metadata": {
    "colab_type": "text",
    "id": "fitYTQjL2Aa-"
   },
   "source": [
    "### Drop both the original numerical columns"
   ]
  },
  {
   "cell_type": "code",
   "execution_count": 8,
   "metadata": {
    "colab": {
     "base_uri": "https://localhost:8080/",
     "height": 204
    },
    "colab_type": "code",
    "id": "3PgkKYFo2AbA",
    "outputId": "1b3a003b-7815-4dbf-fd88-8bddafb7b501"
   },
   "outputs": [
    {
     "name": "stdout",
     "output_type": "stream",
     "text": [
      "+---+------+----------+\n",
      "|cyl|colsum|colproduct|\n",
      "+---+------+----------+\n",
      "|  6| 131.0|    2310.0|\n",
      "|  6| 131.0|    2310.0|\n",
      "|  4| 115.8|    2120.4|\n",
      "|  6| 131.4|    2354.0|\n",
      "|  8| 193.7|    3272.5|\n",
      "+---+------+----------+\n",
      "only showing top 5 rows\n",
      "\n"
     ]
    }
   ],
   "source": [
    "data = data.drop('mpg','hp')\n",
    "data.show(5)"
   ]
  },
  {
   "cell_type": "markdown",
   "metadata": {
    "colab_type": "text",
    "id": "XvvBKHJB2AbE"
   },
   "source": [
    "### Sort the data by categorical column"
   ]
  },
  {
   "cell_type": "code",
   "execution_count": 9,
   "metadata": {
    "colab": {
     "base_uri": "https://localhost:8080/",
     "height": 204
    },
    "colab_type": "code",
    "id": "NmKmTiV82AbG",
    "outputId": "157a45bb-f5d7-4016-be19-f2af4104adde"
   },
   "outputs": [
    {
     "name": "stdout",
     "output_type": "stream",
     "text": [
      "+---+------+----------+\n",
      "|cyl|colsum|colproduct|\n",
      "+---+------+----------+\n",
      "|  4|  98.9|    2203.5|\n",
      "|  4| 130.4|    2332.6|\n",
      "|  4| 118.5|    2085.5|\n",
      "|  4|  82.4|    1580.8|\n",
      "|  4|  93.3|    1801.8|\n",
      "+---+------+----------+\n",
      "only showing top 5 rows\n",
      "\n"
     ]
    }
   ],
   "source": [
    "data = data.orderBy(data.cyl)\n",
    "data.show(5)"
   ]
  },
  {
   "cell_type": "markdown",
   "metadata": {
    "colab_type": "text",
    "id": "w91-lZr92AbK"
   },
   "source": [
    "### Calculate the mean of the summation column for each distinct category in the catgeorical variable"
   ]
  },
  {
   "cell_type": "code",
   "execution_count": 10,
   "metadata": {
    "colab": {
     "base_uri": "https://localhost:8080/",
     "height": 153
    },
    "colab_type": "code",
    "id": "cfukujag2AbM",
    "outputId": "6aa19f09-d886-4452-af6e-d595c95326e2"
   },
   "outputs": [
    {
     "name": "stdout",
     "output_type": "stream",
     "text": [
      "+---+------------------+\n",
      "|cyl|       avg(colsum)|\n",
      "+---+------------------+\n",
      "|  4|             109.3|\n",
      "|  6|142.02857142857144|\n",
      "|  8|224.31428571428575|\n",
      "+---+------------------+\n",
      "\n"
     ]
    }
   ],
   "source": [
    "data.groupby('cyl').agg({'colsum':'mean'}).show()"
   ]
  },
  {
   "cell_type": "markdown",
   "metadata": {
    "colab_type": "text",
    "id": "uMXVGFrN2AbR"
   },
   "source": [
    "### Filter the rows with values greater than the mean of all the mean values calculated in the previous step"
   ]
  },
  {
   "cell_type": "code",
   "execution_count": 11,
   "metadata": {
    "colab": {
     "base_uri": "https://localhost:8080/",
     "height": 34
    },
    "colab_type": "code",
    "id": "Efqo_8sC2AbS",
    "outputId": "c3f7260f-8dfa-4741-a33a-3e1d80138b17"
   },
   "outputs": [
    {
     "data": {
      "text/plain": [
       "32"
      ]
     },
     "execution_count": 11,
     "metadata": {},
     "output_type": "execute_result"
    }
   ],
   "source": [
    "data.count()"
   ]
  },
  {
   "cell_type": "code",
   "execution_count": 12,
   "metadata": {
    "colab": {
     "base_uri": "https://localhost:8080/",
     "height": 34
    },
    "colab_type": "code",
    "id": "j7Ufy4vK2AbY",
    "outputId": "a573c30b-2fe6-4942-90fd-928b283e18ae"
   },
   "outputs": [
    {
     "data": {
      "text/plain": [
       "15"
      ]
     },
     "execution_count": 12,
     "metadata": {},
     "output_type": "execute_result"
    }
   ],
   "source": [
    "cyl_avg = data.groupby('cyl').agg({'colsum':'mean'})\n",
    "avg = cyl_avg.agg({'avg(colsum)':'mean'}).toPandas().iloc[0,0]\n",
    "data = data.filter(data.colsum > avg)\n",
    "data.count()"
   ]
  },
  {
   "cell_type": "code",
   "execution_count": 13,
   "metadata": {
    "colab": {
     "base_uri": "https://localhost:8080/",
     "height": 204
    },
    "colab_type": "code",
    "id": "OQTzr38g2Abd",
    "outputId": "edcbc104-80e1-4079-971d-31fedf0620d2"
   },
   "outputs": [
    {
     "name": "stdout",
     "output_type": "stream",
     "text": [
      "+---+------+------------------+\n",
      "|cyl|colsum|        colproduct|\n",
      "+---+------+------------------+\n",
      "|  6| 194.7|            3447.5|\n",
      "|  8| 193.7|            3272.5|\n",
      "|  8| 196.4|2951.9999999999995|\n",
      "|  8| 259.3|            3503.5|\n",
      "|  8| 197.3|            3114.0|\n",
      "+---+------+------------------+\n",
      "only showing top 5 rows\n",
      "\n"
     ]
    }
   ],
   "source": [
    "data.show(5)"
   ]
  },
  {
   "cell_type": "code",
   "execution_count": null,
   "metadata": {
    "colab": {},
    "colab_type": "code",
    "id": "qM76Ua-W3HxU"
   },
   "outputs": [],
   "source": []
  },
  {
   "cell_type": "markdown",
   "metadata": {
    "colab_type": "text",
    "id": "Quwni0d12Abh"
   },
   "source": [
    "### De-duplicate the resultant dataframe to make sure it has all unique records"
   ]
  },
  {
   "cell_type": "code",
   "execution_count": 14,
   "metadata": {
    "colab": {
     "base_uri": "https://localhost:8080/",
     "height": 34
    },
    "colab_type": "code",
    "id": "CW_kg4Hl2Abj",
    "outputId": "62498f81-9d6a-4921-a0f2-89cd2fb943dc"
   },
   "outputs": [
    {
     "data": {
      "text/plain": [
       "15"
      ]
     },
     "execution_count": 14,
     "metadata": {},
     "output_type": "execute_result"
    }
   ],
   "source": [
    "data = data.dropDuplicates()\n",
    "data.count()"
   ]
  }
 ],
 "metadata": {
  "colab": {
   "name": "Activity 2 - Diving Deeper with Spark.ipynb",
   "provenance": [],
   "version": "0.3.2"
  },
  "kernelspec": {
   "display_name": "Python 3",
   "language": "python",
   "name": "python3"
  },
  "language_info": {
   "codemirror_mode": {
    "name": "ipython",
    "version": 3
   },
   "file_extension": ".py",
   "mimetype": "text/x-python",
   "name": "python",
   "nbconvert_exporter": "python",
   "pygments_lexer": "ipython3",
   "version": "3.6.7"
  }
 },
 "nbformat": 4,
 "nbformat_minor": 1
}
